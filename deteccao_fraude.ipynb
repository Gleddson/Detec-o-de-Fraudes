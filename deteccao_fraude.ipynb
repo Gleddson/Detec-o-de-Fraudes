{
 "cells": [
  {
   "cell_type": "code",
   "execution_count": 5,
   "metadata": {},
   "outputs": [],
   "source": [
    "from minisom import MiniSom\n",
    "from sklearn.preprocessing import MinMaxScaler\n",
    "from pylab import pcolor, colorbar, plot\n",
    "\n",
    "import pandas as pd\n",
    "import numpy as np"
   ]
  },
  {
   "cell_type": "markdown",
   "metadata": {},
   "source": [
    "Pre-processamento dos dados"
   ]
  },
  {
   "cell_type": "code",
   "execution_count": 2,
   "metadata": {},
   "outputs": [],
   "source": [
    "base = pd.read_csv('credit_data.csv')\n",
    "base = base.dropna()\n",
    "base.loc[base.age < 0, 'age'] = 40.92"
   ]
  },
  {
   "cell_type": "code",
   "execution_count": 68,
   "metadata": {},
   "outputs": [
    {
     "data": {
      "text/html": [
       "<div>\n",
       "<style scoped>\n",
       "    .dataframe tbody tr th:only-of-type {\n",
       "        vertical-align: middle;\n",
       "    }\n",
       "\n",
       "    .dataframe tbody tr th {\n",
       "        vertical-align: top;\n",
       "    }\n",
       "\n",
       "    .dataframe thead th {\n",
       "        text-align: right;\n",
       "    }\n",
       "</style>\n",
       "<table border=\"1\" class=\"dataframe\">\n",
       "  <thead>\n",
       "    <tr style=\"text-align: right;\">\n",
       "      <th></th>\n",
       "      <th>clientid</th>\n",
       "      <th>income</th>\n",
       "      <th>age</th>\n",
       "      <th>loan</th>\n",
       "      <th>default</th>\n",
       "    </tr>\n",
       "  </thead>\n",
       "  <tbody>\n",
       "    <tr>\n",
       "      <td>0</td>\n",
       "      <td>1</td>\n",
       "      <td>66155.925095</td>\n",
       "      <td>59.017015</td>\n",
       "      <td>8106.532131</td>\n",
       "      <td>0</td>\n",
       "    </tr>\n",
       "    <tr>\n",
       "      <td>1</td>\n",
       "      <td>2</td>\n",
       "      <td>34415.153966</td>\n",
       "      <td>48.117153</td>\n",
       "      <td>6564.745018</td>\n",
       "      <td>0</td>\n",
       "    </tr>\n",
       "    <tr>\n",
       "      <td>2</td>\n",
       "      <td>3</td>\n",
       "      <td>57317.170063</td>\n",
       "      <td>63.108049</td>\n",
       "      <td>8020.953296</td>\n",
       "      <td>0</td>\n",
       "    </tr>\n",
       "    <tr>\n",
       "      <td>3</td>\n",
       "      <td>4</td>\n",
       "      <td>42709.534201</td>\n",
       "      <td>45.751972</td>\n",
       "      <td>6103.642260</td>\n",
       "      <td>0</td>\n",
       "    </tr>\n",
       "    <tr>\n",
       "      <td>4</td>\n",
       "      <td>5</td>\n",
       "      <td>66952.688845</td>\n",
       "      <td>18.584336</td>\n",
       "      <td>8770.099235</td>\n",
       "      <td>1</td>\n",
       "    </tr>\n",
       "  </tbody>\n",
       "</table>\n",
       "</div>"
      ],
      "text/plain": [
       "   clientid        income        age         loan  default\n",
       "0         1  66155.925095  59.017015  8106.532131        0\n",
       "1         2  34415.153966  48.117153  6564.745018        0\n",
       "2         3  57317.170063  63.108049  8020.953296        0\n",
       "3         4  42709.534201  45.751972  6103.642260        0\n",
       "4         5  66952.688845  18.584336  8770.099235        1"
      ]
     },
     "execution_count": 68,
     "metadata": {},
     "output_type": "execute_result"
    }
   ],
   "source": [
    "base.head()"
   ]
  },
  {
   "cell_type": "markdown",
   "metadata": {},
   "source": [
    "Obtenção das classes para o treinamento da rede"
   ]
  },
  {
   "cell_type": "code",
   "execution_count": 3,
   "metadata": {},
   "outputs": [],
   "source": [
    "X = base.iloc[:, 0:4].values\n",
    "y = base.iloc[:, 4].values"
   ]
  },
  {
   "cell_type": "markdown",
   "metadata": {},
   "source": [
    "Aplicar normalização entre 0 e 1"
   ]
  },
  {
   "cell_type": "code",
   "execution_count": 6,
   "metadata": {},
   "outputs": [],
   "source": [
    "normalizador = MinMaxScaler(feature_range = (0,1))\n",
    "X = normalizador.fit_transform(X)"
   ]
  },
  {
   "cell_type": "markdown",
   "metadata": {},
   "source": [
    "Construção do mapa auto organizado\n",
    "x: Número de linhas do mapa\n",
    "y: Número de colunas do mapa"
   ]
  },
  {
   "cell_type": "code",
   "execution_count": 56,
   "metadata": {},
   "outputs": [],
   "source": [
    "som = MiniSom(x = 15, y = 15, input_len = 4, sigma=1.0, learning_rate=0.5, random_seed = 0)\n",
    "som.random_weights_init(X)\n",
    "som.train_random(data = X, num_iteration = 100)"
   ]
  },
  {
   "cell_type": "code",
   "execution_count": 43,
   "metadata": {},
   "outputs": [
    {
     "data": {
      "text/plain": [
       "array([[[0.79630809, 0.85925094, 0.57651275, 0.69866478],\n",
       "        [0.16827959, 0.4673101 , 0.33449425, 0.06094421],\n",
       "        [0.41062653, 0.91980869, 0.21061567, 0.61151505],\n",
       "        [0.77151507, 0.16985764, 0.74455302, 0.24651231],\n",
       "        [0.67222579, 0.83900293, 0.31826571, 0.41206423],\n",
       "        [0.2680714 , 0.31252171, 0.4670227 , 0.13879726],\n",
       "        [0.29931762, 0.41942917, 0.40526539, 0.3075981 ],\n",
       "        [0.03704153, 0.26393358, 0.40149685, 0.28876791],\n",
       "        [0.17433889, 0.63172254, 0.68353427, 0.36555225],\n",
       "        [0.03191413, 0.68387293, 0.88358708, 0.29777955],\n",
       "        [0.29347879, 0.79059951, 0.5012037 , 0.51072619],\n",
       "        [0.36418658, 0.26510429, 0.80497165, 0.21592705],\n",
       "        [0.12145368, 0.36515671, 0.53215013, 0.19009034],\n",
       "        [0.04482078, 0.15941699, 0.85305734, 0.05850418],\n",
       "        [0.12053705, 0.31923294, 0.69555756, 0.14375487]],\n",
       "\n",
       "       [[0.80042019, 0.69254762, 0.52541803, 0.37373834],\n",
       "        [0.71317195, 0.74555547, 0.43293449, 0.67347896],\n",
       "        [0.65724956, 0.60001045, 0.16935665, 0.14518672],\n",
       "        [0.55585191, 0.31158113, 0.45042783, 0.36749323],\n",
       "        [0.13104903, 0.56216645, 0.67982556, 0.18713306],\n",
       "        [0.18861261, 0.50708579, 0.60104407, 0.31456   ],\n",
       "        [0.19042719, 0.33994233, 0.42118506, 0.24861009],\n",
       "        [0.135536  , 0.39244521, 0.44509583, 0.34684244],\n",
       "        [0.41384475, 0.56376481, 0.6054185 , 0.48090836],\n",
       "        [0.23634531, 0.51218846, 0.5027627 , 0.18166176],\n",
       "        [0.50981726, 0.28621458, 0.47886919, 0.18745548],\n",
       "        [0.09460238, 0.27276126, 0.52557046, 0.32818869],\n",
       "        [0.34235343, 0.3936588 , 0.51985109, 0.22802513],\n",
       "        [0.04186925, 0.15867486, 0.65800896, 0.09020737],\n",
       "        [0.18658316, 0.23111386, 0.42452393, 0.15982795]],\n",
       "\n",
       "       [[0.28897566, 0.58179462, 0.44715818, 0.10701108],\n",
       "        [0.50375833, 0.43968311, 0.82150856, 0.37909638],\n",
       "        [0.52419001, 0.445374  , 0.59470966, 0.25762648],\n",
       "        [0.46686832, 0.29416929, 0.53837633, 0.2518333 ],\n",
       "        [0.03008118, 0.42892343, 0.46097903, 0.15527834],\n",
       "        [0.01695789, 0.81007448, 0.60934524, 0.31841091],\n",
       "        [0.04167914, 0.73005784, 0.41847132, 0.15536287],\n",
       "        [0.39296421, 0.35879318, 0.63239354, 0.25103917],\n",
       "        [0.41078153, 0.41522889, 0.29630918, 0.33040198],\n",
       "        [0.25423756, 0.34074151, 0.43202996, 0.30314237],\n",
       "        [0.36745489, 0.47146392, 0.65294892, 0.31558618],\n",
       "        [0.47420928, 0.72405553, 0.43305228, 0.35684832],\n",
       "        [0.07481371, 0.3734223 , 0.39229007, 0.22993215],\n",
       "        [0.0223923 , 0.15180601, 0.38314147, 0.14198711],\n",
       "        [0.0154845 , 0.28110805, 0.4048189 , 0.19490538]],\n",
       "\n",
       "       [[0.25887657, 0.63582019, 0.46267837, 0.28318734],\n",
       "        [0.06122774, 0.47142963, 0.66279447, 0.15649826],\n",
       "        [0.06154467, 0.44648242, 0.65978415, 0.16011481],\n",
       "        [0.2169976 , 0.43611126, 0.69286432, 0.35218153],\n",
       "        [0.38950023, 0.56711669, 0.33829443, 0.1399551 ],\n",
       "        [0.19605551, 0.7477823 , 0.29943859, 0.32949745],\n",
       "        [0.59561512, 0.27844821, 0.68449109, 0.12021097],\n",
       "        [0.67927815, 0.56993914, 0.65560166, 0.35118806],\n",
       "        [0.53872721, 0.54345283, 0.51900599, 0.36907933],\n",
       "        [0.04622796, 0.47732809, 0.9372937 , 0.26032013],\n",
       "        [0.11758045, 0.56657661, 0.75823108, 0.37294452],\n",
       "        [0.29885033, 0.39712406, 0.79951429, 0.26637499],\n",
       "        [0.39768233, 0.53467487, 0.49546501, 0.3211972 ],\n",
       "        [0.2480788 , 0.38861796, 0.45698996, 0.19840122],\n",
       "        [0.34877059, 0.49284891, 0.54611114, 0.11059517]],\n",
       "\n",
       "       [[0.08192441, 0.54525308, 0.54045263, 0.14217146],\n",
       "        [0.17717944, 0.61404813, 0.46002   , 0.23734286],\n",
       "        [0.23283287, 0.41003155, 0.48293418, 0.22433934],\n",
       "        [0.37323307, 0.49744401, 0.35922552, 0.17768622],\n",
       "        [0.38208876, 0.74958373, 0.65360505, 0.14228982],\n",
       "        [0.55993311, 0.90289885, 0.42064571, 0.71231513],\n",
       "        [0.1861633 , 0.27838406, 0.35605676, 0.38594569],\n",
       "        [0.37636344, 0.22702153, 0.77131205, 0.05737954],\n",
       "        [0.49889919, 0.21241785, 0.67534576, 0.21558364],\n",
       "        [0.07791812, 0.75785093, 0.70349023, 0.51557126],\n",
       "        [0.03597982, 0.7706826 , 0.86095512, 0.64907468],\n",
       "        [0.13096238, 0.81246213, 0.56492601, 0.57182461],\n",
       "        [0.29087264, 0.74610202, 0.63583767, 0.60203209],\n",
       "        [0.37042726, 0.75637944, 0.44368596, 0.20830578],\n",
       "        [0.73567519, 0.52105869, 0.78701628, 0.21308688]],\n",
       "\n",
       "       [[0.20030978, 0.50338675, 0.18629796, 0.35945983],\n",
       "        [0.15583693, 0.55346734, 0.28250923, 0.33114335],\n",
       "        [0.03730597, 0.47415146, 0.20918493, 0.37679622],\n",
       "        [0.14705335, 0.68373625, 0.42174859, 0.33499712],\n",
       "        [0.11282048, 0.8785718 , 0.71192075, 0.20331055],\n",
       "        [0.58179155, 0.45387908, 0.80074512, 0.11761057],\n",
       "        [0.16535456, 0.42483155, 0.78566205, 0.26531839],\n",
       "        [0.40695699, 0.1124048 , 0.78808582, 0.14876733],\n",
       "        [0.50105817, 0.91594568, 0.69492937, 0.45388619],\n",
       "        [0.32307805, 0.47298283, 0.48845808, 0.35980709],\n",
       "        [0.21024472, 0.74902605, 0.60603397, 0.56347447],\n",
       "        [0.22594806, 0.52869447, 0.47643676, 0.44863773],\n",
       "        [0.53202287, 0.77828322, 0.24904484, 0.4980036 ],\n",
       "        [0.79114265, 0.43684494, 0.18938433, 0.3295142 ],\n",
       "        [0.69145006, 0.47136225, 0.14011114, 0.20481287]],\n",
       "\n",
       "       [[0.02787194, 0.52559247, 0.18128345, 0.38326485],\n",
       "        [0.0668764 , 0.59248789, 0.19137065, 0.47577339],\n",
       "        [0.04208039, 0.4711362 , 0.16994998, 0.41436701],\n",
       "        [0.06051179, 0.70524202, 0.30647288, 0.27246645],\n",
       "        [0.4610415 , 0.48478464, 0.59303238, 0.132788  ],\n",
       "        [0.42300786, 0.23372188, 0.3549575 , 0.17268174],\n",
       "        [0.25897865, 0.63937187, 0.80731291, 0.20880392],\n",
       "        [0.66144392, 0.65890252, 0.32722222, 0.43116062],\n",
       "        [0.36512654, 0.71455921, 0.38977677, 0.47814312],\n",
       "        [0.25062191, 0.80812706, 0.70697852, 0.35250375],\n",
       "        [0.02991008, 0.73527984, 0.52052057, 0.49458388],\n",
       "        [0.23981067, 0.8186084 , 0.68757212, 0.51400007],\n",
       "        [0.4428941 , 0.35296524, 0.31736629, 0.21888684],\n",
       "        [0.11767055, 0.62962498, 0.71946434, 0.429188  ],\n",
       "        [0.43244701, 0.12299115, 0.0791759 , 0.13252037]],\n",
       "\n",
       "       [[0.03319173, 0.59325636, 0.14876727, 0.52402623],\n",
       "        [0.04915697, 0.63057349, 0.23702432, 0.41576913],\n",
       "        [0.0329279 , 0.59530581, 0.25223133, 0.341596  ],\n",
       "        [0.2354308 , 0.79420107, 0.19504212, 0.35032392],\n",
       "        [0.28840916, 0.65089069, 0.38558146, 0.3682956 ],\n",
       "        [0.39261881, 0.28836366, 0.8859294 , 0.15193672],\n",
       "        [0.62760088, 0.94619794, 0.46270694, 0.52882416],\n",
       "        [0.18578297, 0.77200786, 0.33868256, 0.50384645],\n",
       "        [0.05577187, 0.66776916, 0.61559687, 0.4430311 ],\n",
       "        [0.11429313, 0.87028778, 0.62428668, 0.50367416],\n",
       "        [0.0548515 , 0.8297233 , 0.64502332, 0.46366815],\n",
       "        [0.05137969, 0.77776425, 0.56330608, 0.35620936],\n",
       "        [0.28908136, 0.6753828 , 0.44543315, 0.26856731],\n",
       "        [0.20972114, 0.29737657, 0.55213224, 0.31356522],\n",
       "        [0.25997811, 0.19569838, 0.26990787, 0.2011568 ]],\n",
       "\n",
       "       [[0.12521178, 0.56868915, 0.12547579, 0.4093206 ],\n",
       "        [0.04696294, 0.64457796, 0.14364843, 0.32581571],\n",
       "        [0.03632541, 0.80717976, 0.24894181, 0.34948981],\n",
       "        [0.0425359 , 0.78891035, 0.36384696, 0.41615939],\n",
       "        [0.27538681, 0.74735012, 0.45133358, 0.44076394],\n",
       "        [0.20997339, 0.82641326, 0.22405738, 0.2038374 ],\n",
       "        [0.41664113, 0.2163761 , 0.7149634 , 0.28415241],\n",
       "        [0.45875516, 0.39995397, 0.62570657, 0.3397572 ],\n",
       "        [0.20638663, 0.62126975, 0.69294332, 0.30198583],\n",
       "        [0.03255199, 0.88229517, 0.744717  , 0.47935196],\n",
       "        [0.02928374, 0.86870273, 0.6571647 , 0.40028649],\n",
       "        [0.13400202, 0.74122647, 0.66842905, 0.36133211],\n",
       "        [0.06131141, 0.58496551, 0.6301902 , 0.40380596],\n",
       "        [0.11854482, 0.30300817, 0.31579015, 0.26725622],\n",
       "        [0.0301322 , 0.13430831, 0.11304074, 0.24780016]],\n",
       "\n",
       "       [[0.10168721, 0.47557699, 0.28957281, 0.27680627],\n",
       "        [0.04235474, 0.72903303, 0.23464358, 0.27141025],\n",
       "        [0.0295387 , 0.81618547, 0.15437742, 0.27719122],\n",
       "        [0.12292242, 0.80174991, 0.27648229, 0.31623593],\n",
       "        [0.37190609, 0.82198148, 0.21231651, 0.34951035],\n",
       "        [0.42632909, 0.5143012 , 0.64067522, 0.24991316],\n",
       "        [0.73294053, 0.71475284, 0.54285209, 0.39333486],\n",
       "        [0.06421077, 0.66378887, 0.77467574, 0.56916952],\n",
       "        [0.1363661 , 0.49430879, 0.74568053, 0.28298311],\n",
       "        [0.17725436, 0.80095504, 0.59112181, 0.3689074 ],\n",
       "        [0.09695641, 0.85856952, 0.5436242 , 0.36469126],\n",
       "        [0.06705625, 0.59902052, 0.56297845, 0.35028108],\n",
       "        [0.13419122, 0.69098589, 0.44351975, 0.39560642],\n",
       "        [0.085531  , 0.40226437, 0.36036804, 0.39599439],\n",
       "        [0.207437  , 0.20041735, 0.11683573, 0.25881048]],\n",
       "\n",
       "       [[0.55423841, 0.78406722, 0.27204085, 0.3631894 ],\n",
       "        [0.10783674, 0.73566558, 0.20557793, 0.33506316],\n",
       "        [0.05959114, 0.65098719, 0.14085159, 0.19487068],\n",
       "        [0.14478235, 0.6597576 , 0.28751519, 0.29465866],\n",
       "        [0.15956155, 0.66692857, 0.27399077, 0.2812251 ],\n",
       "        [0.10531872, 0.70201567, 0.37374252, 0.08962126],\n",
       "        [0.34950859, 0.67426725, 0.76804318, 0.65150804],\n",
       "        [0.22527773, 0.73573729, 0.79537633, 0.35342372],\n",
       "        [0.04908082, 0.44317256, 0.82411321, 0.15560024],\n",
       "        [0.06656552, 0.67565868, 0.68886611, 0.33625318],\n",
       "        [0.25226134, 0.54363503, 0.74314413, 0.36604489],\n",
       "        [0.28350975, 0.592471  , 0.63082823, 0.41933448],\n",
       "        [0.23067991, 0.3202931 , 0.35491054, 0.24809041],\n",
       "        [0.521382  , 0.35331795, 0.20050876, 0.4012276 ],\n",
       "        [0.39421312, 0.58228847, 0.50745971, 0.28462398]],\n",
       "\n",
       "       [[0.22017589, 0.44900241, 0.18871341, 0.10248276],\n",
       "        [0.27056629, 0.65746507, 0.48772457, 0.41159847],\n",
       "        [0.07658223, 0.43308676, 0.37254045, 0.13996959],\n",
       "        [0.17684171, 0.55891302, 0.36660798, 0.23952316],\n",
       "        [0.02495845, 0.32966871, 0.58737873, 0.15517277],\n",
       "        [0.27176299, 0.20949431, 0.61283941, 0.10256555],\n",
       "        [0.56935822, 0.148022  , 0.35618902, 0.27264081],\n",
       "        [0.32974066, 0.23127742, 0.5342911 , 0.23443846],\n",
       "        [0.27972609, 0.44730729, 0.45887425, 0.22385738],\n",
       "        [0.31374859, 0.58680535, 0.61950961, 0.47157412],\n",
       "        [0.27440257, 0.58916301, 0.39252918, 0.4142136 ],\n",
       "        [0.13388102, 0.56097021, 0.63343457, 0.44854131],\n",
       "        [0.27795546, 0.23143797, 0.399386  , 0.29813789],\n",
       "        [0.400853  , 0.32484423, 0.54841792, 0.40263467],\n",
       "        [0.0669025 , 0.29469412, 0.56808912, 0.18226779]],\n",
       "\n",
       "       [[0.33227343, 0.48002817, 0.41466174, 0.19689211],\n",
       "        [0.14028456, 0.70313762, 0.50476017, 0.13805201],\n",
       "        [0.30596947, 0.38637369, 0.43442698, 0.27537051],\n",
       "        [0.05927784, 0.28386737, 0.4522393 , 0.15246826],\n",
       "        [0.21228889, 0.29370482, 0.39176421, 0.20960483],\n",
       "        [0.3392882 , 0.4478178 , 0.61155181, 0.1296497 ],\n",
       "        [0.54312811, 0.33972415, 0.66545841, 0.13156789],\n",
       "        [0.3242597 , 0.65877146, 0.68478321, 0.61915968],\n",
       "        [0.18181038, 0.65121394, 0.49369658, 0.49858592],\n",
       "        [0.23197267, 0.36769804, 0.50392909, 0.32960887],\n",
       "        [0.04001599, 0.49456811, 0.46999182, 0.47215942],\n",
       "        [0.03331213, 0.34844513, 0.50315453, 0.38273611],\n",
       "        [0.20538456, 0.36849995, 0.46066315, 0.40774986],\n",
       "        [0.05215303, 0.31363997, 0.34258918, 0.42919244],\n",
       "        [0.02027246, 0.57455308, 0.6274496 , 0.64081502]],\n",
       "\n",
       "       [[0.80782957, 0.49081701, 0.05635797, 0.12697969],\n",
       "        [0.66066149, 0.79195836, 0.43721768, 0.62204089],\n",
       "        [0.148896  , 0.22825032, 0.61881132, 0.25158033],\n",
       "        [0.11595217, 0.29943531, 0.53764389, 0.24996858],\n",
       "        [0.08596054, 0.60995098, 0.28055676, 0.33857401],\n",
       "        [0.5017916 , 0.64860957, 0.40732642, 0.43165011],\n",
       "        [0.1495861 , 0.52474944, 0.52895567, 0.36594119],\n",
       "        [0.04835424, 0.67817241, 0.65654473, 0.54687724],\n",
       "        [0.15828884, 0.50544534, 0.64298833, 0.41961401],\n",
       "        [0.02430485, 0.46053007, 0.61080282, 0.45141692],\n",
       "        [0.12261172, 0.40881224, 0.66736024, 0.41344325],\n",
       "        [0.1458714 , 0.41118371, 0.68365756, 0.43149386],\n",
       "        [0.11290846, 0.32329956, 0.58105269, 0.37886573],\n",
       "        [0.26557074, 0.48449659, 0.53580718, 0.32902975],\n",
       "        [0.62726518, 0.55184761, 0.76632002, 0.47454254]],\n",
       "\n",
       "       [[0.56463455, 0.74681743, 0.67784825, 0.77241191],\n",
       "        [0.64700778, 0.88147387, 0.25238326, 0.34346957],\n",
       "        [0.24157634, 0.74169983, 0.5935604 , 0.13928194],\n",
       "        [0.43446209, 0.37835751, 0.65027757, 0.41177094],\n",
       "        [0.30649859, 0.70787567, 0.37976843, 0.49833542],\n",
       "        [0.1330021 , 0.78142013, 0.20716866, 0.53920492],\n",
       "        [0.59347571, 0.41642154, 0.57501104, 0.16992962],\n",
       "        [0.37328847, 0.49534944, 0.47461156, 0.522308  ],\n",
       "        [0.08570884, 0.49628577, 0.7569874 , 0.4120021 ],\n",
       "        [0.01901591, 0.38192778, 0.7338172 , 0.41936667],\n",
       "        [0.05362506, 0.34298839, 0.72516506, 0.35953684],\n",
       "        [0.11320479, 0.37217687, 0.64289426, 0.46095966],\n",
       "        [0.04218635, 0.1623565 , 0.83430555, 0.30544542],\n",
       "        [0.06392105, 0.48991203, 0.71619195, 0.52210877],\n",
       "        [0.42183114, 0.32896133, 0.27817557, 0.37637577]]])"
      ]
     },
     "execution_count": 43,
     "metadata": {},
     "output_type": "execute_result"
    }
   ],
   "source": [
    "som._weights"
   ]
  },
  {
   "cell_type": "code",
   "execution_count": 44,
   "metadata": {},
   "outputs": [
    {
     "data": {
      "text/plain": [
       "array([[0.86859525, 0.69145093, 0.79687401, 0.8682488 , 0.86606666,\n",
       "        0.6121446 , 0.53351546, 0.53034196, 0.2943758 , 0.34546703,\n",
       "        0.47704377, 0.53862216, 0.48347419, 0.62375959, 0.48168377],\n",
       "       [0.84701217, 0.80060119, 0.97212957, 0.67308521, 0.41314524,\n",
       "        0.34743304, 0.53200478, 0.4294599 , 0.426347  , 0.51801726,\n",
       "        0.7118641 , 0.42517179, 0.53833633, 0.60598254, 0.62653633],\n",
       "       [0.62900937, 0.50814227, 0.60919343, 0.62219334, 0.53089397,\n",
       "        0.43394614, 0.59680799, 0.52029226, 0.66126107, 0.51563062,\n",
       "        0.43629029, 0.63515851, 0.5346966 , 0.68353691, 0.57764425],\n",
       "       [0.49960461, 0.43454601, 0.43449417, 0.30350188, 0.71285773,\n",
       "        0.61117146, 0.75711206, 0.69070213, 0.59940984, 0.35167806,\n",
       "        0.2247301 , 0.41562729, 0.52220015, 0.5484803 , 0.60306279],\n",
       "       [0.49641871, 0.49570257, 0.50540263, 0.66617506, 0.6154301 ,\n",
       "        0.7596722 , 0.5350462 , 0.67502211, 0.6586241 , 0.27400058,\n",
       "        0.28928678, 0.3866236 , 0.37794297, 0.64699735, 0.78319894],\n",
       "       [0.65036827, 0.56681442, 0.60381496, 0.47795727, 0.53593866,\n",
       "        0.70966805, 0.34167069, 0.6839289 , 0.63516069, 0.45934582,\n",
       "        0.34512996, 0.37724072, 0.77707651, 0.98762757, 0.98447531],\n",
       "       [0.62804465, 0.60315783, 0.63062818, 0.59594449, 0.6371911 ,\n",
       "        0.7482208 , 0.44700641, 0.79640186, 0.55735642, 0.43683493,\n",
       "        0.35626619, 0.38835458, 0.72366986, 0.21488826, 0.99152445],\n",
       "       [0.63884197, 0.57888093, 0.58309502, 0.71660029, 0.52934264,\n",
       "        0.59942793, 0.80168042, 0.54045208, 0.26635148, 0.41074908,\n",
       "        0.36954   , 0.41115154, 0.54373111, 0.43625718, 0.73558719],\n",
       "       [0.68252058, 0.69660587, 0.65080253, 0.52790455, 0.48957887,\n",
       "        0.76008605, 0.55840621, 0.51367338, 0.34991542, 0.39169344,\n",
       "        0.42216603, 0.34986935, 0.24088984, 0.59577294, 0.82855696],\n",
       "       [0.57649399, 0.66229545, 0.75897785, 0.64388638, 0.7633671 ,\n",
       "        0.52230991, 0.78250703, 0.16193957, 0.30778081, 0.42927231,\n",
       "        0.47771407, 0.32613374, 0.43383596, 0.46830555, 0.81098552],\n",
       "       [0.80251065, 0.6665701 , 0.75694756, 0.59563596, 0.61767818,\n",
       "        0.6648564 , 0.36165718, 0.36959651, 0.42458361, 0.30765166,\n",
       "        0.30119633, 0.33570933, 0.59644118, 0.78645785, 0.53717695],\n",
       "       [0.77835161, 0.43331794, 0.59966703, 0.55083831, 0.49220447,\n",
       "        0.62402792, 0.821993  , 0.57687697, 0.53408859, 0.34272844,\n",
       "        0.48677394, 0.22104709, 0.59213148, 0.49427226, 0.49190094],\n",
       "       [0.60033156, 0.56090134, 0.5403638 , 0.57691326, 0.59677426,\n",
       "        0.56340086, 0.69832624, 0.33998183, 0.35902534, 0.43637008,\n",
       "        0.32560482, 0.36983103, 0.41772239, 0.49808259, 0.1818122 ],\n",
       "       [1.1449379 , 0.76620631, 0.46576634, 0.45871425, 0.56325457,\n",
       "        0.62628905, 0.34358598, 0.21511767, 0.23685797, 0.21307651,\n",
       "        0.2320739 , 0.22126003, 0.34242167, 0.42988748, 0.6030854 ],\n",
       "       [0.61944636, 0.91709187, 0.56568569, 0.46224717, 0.52697981,\n",
       "        0.64359343, 0.71964391, 0.45416592, 0.16921734, 0.20268587,\n",
       "        0.27324214, 0.23216163, 0.45603178, 0.10303159, 0.71162166]])"
      ]
     },
     "execution_count": 44,
     "metadata": {},
     "output_type": "execute_result"
    }
   ],
   "source": [
    "som._activation_map"
   ]
  },
  {
   "cell_type": "markdown",
   "metadata": {},
   "source": [
    "Verificar quantas vezes cada neurônio foi selecionado como BMU"
   ]
  },
  {
   "cell_type": "code",
   "execution_count": 52,
   "metadata": {},
   "outputs": [],
   "source": [
    "response = som.activation_response(X)"
   ]
  },
  {
   "cell_type": "markdown",
   "metadata": {},
   "source": [
    "Calcular a média da distancia entre os neurônios\n",
    "Quanto mais escuro é a cor de um neurônio, mais parecido ele é com seus vizinhos, equanto que quantom mais claro, mais diferente ele é de seus vizinhos. Os registros em Amarelo são os outliers."
   ]
  },
  {
   "cell_type": "code",
   "execution_count": 57,
   "metadata": {},
   "outputs": [
    {
     "data": {
      "text/plain": [
       "<matplotlib.colorbar.Colorbar at 0x186b64f8b70>"
      ]
     },
     "execution_count": 57,
     "metadata": {},
     "output_type": "execute_result"
    },
    {
     "data": {
      "image/png": "[encoded data removed]",
      "text/plain": [
       "<Figure size 432x288 with 2 Axes>"
      ]
     },
     "metadata": {
      "needs_background": "light"
     },
     "output_type": "display_data"
    }
   ],
   "source": [
    "pcolor(som.distance_map().T)\n",
    "colorbar()"
   ]
  },
  {
   "cell_type": "markdown",
   "metadata": {},
   "source": [
    "Verificar qual neurônio foi selecionado como bast match unit (BMS) para um determinado registro. Com isso, é possivel criar marcadores para identificar onde cada registro da base de dados se encaixa."
   ]
  },
  {
   "cell_type": "code",
   "execution_count": 58,
   "metadata": {},
   "outputs": [
    {
     "data": {
      "text/plain": [
       "(4, 10)"
      ]
     },
     "execution_count": 58,
     "metadata": {},
     "output_type": "execute_result"
    }
   ],
   "source": [
    "x = som.winner(X[0])\n",
    "x"
   ]
  },
  {
   "cell_type": "markdown",
   "metadata": {},
   "source": [
    "Definição das classes e dos marcadores"
   ]
  },
  {
   "cell_type": "code",
   "execution_count": 59,
   "metadata": {},
   "outputs": [],
   "source": [
    "markers = ['o', 's']\n",
    "colors = ['r', 'g']"
   ]
  },
  {
   "cell_type": "code",
   "execution_count": 67,
   "metadata": {},
   "outputs": [
    {
     "data": {
      "image/png": "[encoded data removed]",
      "text/plain": [
       "<Figure size 432x288 with 1 Axes>"
      ]
     },
     "metadata": {
      "needs_background": "light"
     },
     "output_type": "display_data"
    }
   ],
   "source": [
    "for i, x in enumerate(X):\n",
    "    w = som.winner(x)\n",
    "    plot(w[0] + 0.5, w[1] + 0.5, markers[y[i]],\n",
    "         markerfacecolor = 'None', markersize = 10,\n",
    "         markeredgecolor = colors[y[i]], markeredgewidth = 2)"
   ]
  }
 ],
 "metadata": {
  "kernelspec": {
   "display_name": "Python 3",
   "language": "python",
   "name": "python3"
  },
  "language_info": {
   "codemirror_mode": {
    "name": "ipython",
    "version": 3
   },
   "file_extension": ".py",
   "mimetype": "text/x-python",
   "name": "python",
   "nbconvert_exporter": "python",
   "pygments_lexer": "ipython3",
   "version": "3.6.8"
  }
 },
 "nbformat": 4,
 "nbformat_minor": 2
}
